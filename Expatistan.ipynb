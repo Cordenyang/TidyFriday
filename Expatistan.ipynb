{
 "cells": [
  {
   "cell_type": "code",
   "execution_count": null,
   "metadata": {},
   "outputs": [],
   "source": [
    "import csv\n",
    "import requests\n",
    "from pyquery import PyQuery\n",
    "\n",
    "csvf = open('Expatistan.csv', 'a+', encoding='gbk', newline='')\n",
    "writer = csv.writer(csvf)\n",
    "writer.writerow(('Ranking', 'Country','index'))\n",
    "\n",
    "url=\"https://www.expatistan.com/cost-of-living/country/ranking\"\n",
    "resp = requests.get(url)\n",
    "doc = PyQuery(resp.text)\n",
    "for item in doc.items('table tr'):\n",
    "    Ranking=item('td').eq(0).text()\n",
    "    Country=item('td').eq(1).text()\n",
    "    index=item('td').eq(2).text()\n",
    "    print(Ranking,Country,index)\n",
    "    try:\n",
    "        writer.writerow((Ranking,Country,index))\n",
    "    except:\n",
    "        pass\n",
    "\n",
    "csvf.close()"
   ]
  }
 ],
 "metadata": {
  "kernelspec": {
   "display_name": "Python 3",
   "language": "python",
   "name": "python3"
  },
  "language_info": {
   "codemirror_mode": {
    "name": "ipython",
    "version": 3
   },
   "file_extension": ".py",
   "mimetype": "text/x-python",
   "name": "python",
   "nbconvert_exporter": "python",
   "pygments_lexer": "ipython3",
   "version": "3.7.3"
  }
 },
 "nbformat": 4,
 "nbformat_minor": 2
}
